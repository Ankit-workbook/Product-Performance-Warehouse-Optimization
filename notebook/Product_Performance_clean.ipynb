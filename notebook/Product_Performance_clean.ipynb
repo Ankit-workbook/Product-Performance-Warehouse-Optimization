{
 "cells": [
  {
   "cell_type": "code",
   "execution_count": null,
   "id": "1618183c-04ab-47ad-8df0-1dceb6dac288",
   "metadata": {},
   "outputs": [],
   "source": [
    "import pandas as pd\n",
    "import numpy as np \n",
    "import matplotlib.pyplot as plt\n",
    "import seaborn as sns"
   ]
  },
  {
   "cell_type": "code",
   "execution_count": null,
   "id": "0ffbc6f6-38ad-4229-90bb-c89515a541d0",
   "metadata": {},
   "outputs": [],
   "source": [
    "# Load CSV files\n",
    "products = pd.read_csv(\"product_master_named.csv\")\n",
    "sales = pd.read_csv(\"sales_data.csv\")\n",
    "warehouse = pd.read_csv(\"warehouse_data_named.csv\")\n"
   ]
  },
  {
   "cell_type": "code",
   "execution_count": null,
   "id": "b1868ae7-78c7-4e93-b5d8-cf6b0a7de802",
   "metadata": {},
   "outputs": [],
   "source": [
    "# Preview data\n",
    "print(products.head())\n",
    "print(sales.head())\n",
    "print(warehouse.head())\n"
   ]
  },
  {
   "cell_type": "code",
   "execution_count": null,
   "id": "83a69dfc-cf02-4989-964c-746c3cf9c37e",
   "metadata": {},
   "outputs": [],
   "source": [
    "# Merge datasets\n",
    "# Step 1: Merge product master with sales on Product_ID\n",
    "new_df = pd.merge(sales, products, on=\"Product_ID\", how=\"left\")\n",
    "\n",
    "\n",
    "# Final dataset ready\n",
    "print(new_df.shape)\n",
    "print(new_df.head())\n"
   ]
  },
  {
   "cell_type": "code",
   "execution_count": null,
   "id": "d12feb99-4d5f-48a0-96f1-5fd858c68699",
   "metadata": {},
   "outputs": [],
   "source": [
    "# Save merged dataframe into a new CSV\n",
    "new_df.to_csv(\"product.csv\", index=False)\n"
   ]
  },
  {
   "cell_type": "code",
   "execution_count": null,
   "id": "7965fef2-b070-41cb-a456-3b88ec6e1e1d",
   "metadata": {},
   "outputs": [],
   "source": [
    "#New csv files\n",
    "sales = pd.read_csv(\"product.csv\")\n",
    "warehouse = pd.read_csv(\"warehouse_data_named.csv\")\n",
    "\n"
   ]
  },
  {
   "cell_type": "markdown",
   "id": "2d0db5cd-82b0-4006-864e-49c41d694948",
   "metadata": {},
   "source": [
    "SALES DATA"
   ]
  },
  {
   "cell_type": "code",
   "execution_count": null,
   "id": "518322a8-4387-44f1-89a1-f100b75d6395",
   "metadata": {},
   "outputs": [],
   "source": [
    "# Structure of dataset\n",
    "sales.info()\n",
    "\n"
   ]
  },
  {
   "cell_type": "code",
   "execution_count": null,
   "id": "ed31fb4b-876d-47ca-ac66-f1017a23bd37",
   "metadata": {},
   "outputs": [],
   "source": [
    "# Summary statistics\n",
    "sales.describe()"
   ]
  },
  {
   "cell_type": "code",
   "execution_count": null,
   "id": "a64734da-0637-4500-abae-42b9ae7cbeb9",
   "metadata": {},
   "outputs": [],
   "source": [
    "# Check missing values\n",
    "sales.isnull().sum()\n"
   ]
  },
  {
   "cell_type": "code",
   "execution_count": null,
   "id": "938a738b-924c-451b-b0d7-8184bb69917b",
   "metadata": {},
   "outputs": [],
   "source": [
    "# Preview data\n",
    "sales.head()"
   ]
  },
  {
   "cell_type": "markdown",
   "id": "7a374125-eff7-4ec8-a825-b6ecb6d997ed",
   "metadata": {},
   "source": [
    "Now modifing few col names and deleting few col which appears same during the merging of the csv files"
   ]
  },
  {
   "cell_type": "code",
   "execution_count": null,
   "id": "e87ac077-eab2-4eb0-af97-558d189a1c66",
   "metadata": {},
   "outputs": [],
   "source": [
    "# Drop duplicate/extra columns\n",
    "sales = sales.drop(columns=[\"Product_Name_x\", \"Category_y\", \"Cost_Price_y\", \"Selling_Price_y\"])"
   ]
  },
  {
   "cell_type": "code",
   "execution_count": null,
   "id": "b8e08a5c-9878-4865-b914-c75cede0b4fe",
   "metadata": {},
   "outputs": [],
   "source": [
    "sales.head()"
   ]
  },
  {
   "cell_type": "code",
   "execution_count": null,
   "id": "89ef8540-6a49-478c-947b-79063967dfcb",
   "metadata": {},
   "outputs": [],
   "source": [
    "# Rename columns \n",
    "sales = sales.rename(columns={\n",
    "    \"Product_Name_y\": \"Product_Name\",\n",
    "    \"Category_x\": \"Category\",\n",
    "    \"Cost_Price_x\": \"Cost_Price\",\n",
    "    \"Selling_Price_x\": \"Selling_Price\"\n",
    "})\n"
   ]
  },
  {
   "cell_type": "code",
   "execution_count": null,
   "id": "9fd4a5cd-896d-48de-884c-4022db2d876a",
   "metadata": {},
   "outputs": [],
   "source": [
    "sales.head()"
   ]
  },
  {
   "cell_type": "code",
   "execution_count": null,
   "id": "f88963c4-e1b7-494f-922d-68e1fcb15bc4",
   "metadata": {},
   "outputs": [],
   "source": [
    "# Define the desir order\n",
    "new_order = [\n",
    "    \"Product_Name\", \n",
    "    \"Product_ID\", \n",
    "    \"Category\", \n",
    "    \"Cost_Price\", \n",
    "    \"Selling_Price\", \n",
    "    \"Units_Sold\", \n",
    "    \"Revenue\"\n",
    "]\n",
    "\n",
    "# Reorder dataframe\n",
    "sales = sales[new_order]\n"
   ]
  },
  {
   "cell_type": "code",
   "execution_count": null,
   "id": "06a49289-2edd-4fb7-bbab-aaa6478a830f",
   "metadata": {},
   "outputs": [],
   "source": [
    "sales.head()"
   ]
  },
  {
   "cell_type": "code",
   "execution_count": null,
   "id": "0bb5fc40-f9ec-494d-9147-4ce49f31d94a",
   "metadata": {},
   "outputs": [],
   "source": [
    "#Adding a new col of profit/loss status\n",
    "\n",
    "# Calculate profit or loss amount\n",
    "sales[\"Profit_Loss_Amount\"] = (sales[\"Selling_Price\"] - sales[\"Cost_Price\"]) * sales[\"Units_Sold\"]\n",
    "\n",
    "# Create Profit/Loss status column\n",
    "sales[\"Profit_Loss_Status\"] = sales[\"Profit_Loss_Amount\"].apply(lambda x: \"Profit\" if x > 0 else \"Loss\")\n"
   ]
  },
  {
   "cell_type": "code",
   "execution_count": null,
   "id": "fa435d1d-9904-41b9-a361-6dc6bac77984",
   "metadata": {},
   "outputs": [],
   "source": [
    "sales.head()"
   ]
  },
  {
   "cell_type": "code",
   "execution_count": null,
   "id": "941c007d-e76e-475b-9d0a-23a5f8a67bdf",
   "metadata": {},
   "outputs": [],
   "source": [
    "# Save the cleaned sales dataframe into a new CSV\n",
    "sales.to_csv(\"cleaned_sales_data.csv\", index=False)\n"
   ]
  },
  {
   "cell_type": "markdown",
   "id": "40354d07-c5ed-4719-a6ba-da245b74be5d",
   "metadata": {},
   "source": [
    "Revenue and profit Analysis"
   ]
  },
  {
   "cell_type": "code",
   "execution_count": null,
   "id": "2a422d87-580d-46eb-895e-43b69f138e01",
   "metadata": {},
   "outputs": [],
   "source": [
    "# Top 10 products by revenue\n",
    "sales.groupby(\"Product_Name\")[\"Revenue\"].sum().sort_values(ascending=False).head(10)\n",
    "\n",
    "\n"
   ]
  },
  {
   "cell_type": "code",
   "execution_count": null,
   "id": "27e58235-47c8-449c-a76d-b95622a27bce",
   "metadata": {},
   "outputs": [],
   "source": [
    "# Bottom 10 products by revenue\n",
    "sales.groupby(\"Product_Name\")[\"Revenue\"].sum().sort_values().head(10)\n",
    "\n"
   ]
  },
  {
   "cell_type": "code",
   "execution_count": null,
   "id": "46e161c6-cfba-4822-9dfe-3d093d998237",
   "metadata": {},
   "outputs": [],
   "source": [
    "# Top 10 products by gross profit\n",
    "sales.groupby(\"Product_Name\")[\"Profit_Loss_Amount\"].sum().sort_values(ascending=False).head(10)\n",
    "\n"
   ]
  },
  {
   "cell_type": "code",
   "execution_count": null,
   "id": "2d2fae0f-de29-4ebd-ae33-0928aa1c180f",
   "metadata": {},
   "outputs": [],
   "source": [
    "# Profit margin by category\n",
    "(sales.groupby(\"Category\")[\"Profit_Loss_Amount\"].sum() / sales.groupby(\"Category\")[\"Revenue\"].sum()) * 100."
   ]
  },
  {
   "cell_type": "markdown",
   "id": "2bd3bbc6-d3e3-4ac2-a24f-f4e7749fdd86",
   "metadata": {},
   "source": [
    "WE CAN CLEARLY SEE THAT THE CLOTHING AND SPORTS PROFIT MARGIN IS FAR HIGH THAN THE OTHER ONES"
   ]
  },
  {
   "cell_type": "code",
   "execution_count": null,
   "id": "bb31562a-6fc4-4b0c-8dce-e0357e89635d",
   "metadata": {},
   "outputs": [],
   "source": [
    "# Total profit/loss across all sales\n",
    "sales[\"Profit_Loss_Amount\"].sum()"
   ]
  },
  {
   "cell_type": "code",
   "execution_count": null,
   "id": "f69a2f37-bfe9-47a0-87d7-544a0f05ec76",
   "metadata": {},
   "outputs": [],
   "source": [
    "# Revenue by category\n",
    "category_revenue = sales.groupby(\"Category\")[\"Revenue\"].sum().reset_index()\n",
    "\n",
    "plt.figure(figsize=(8,5))\n",
    "sns.barplot(x=\"Category\", y=\"Revenue\", hue=\"Category\", data=category_revenue, palette=\"Blues_d\", legend=False)\n",
    "plt.title(\"Total Revenue by Category\")\n",
    "plt.xticks(rotation=45)\n",
    "plt.show()\n"
   ]
  },
  {
   "cell_type": "code",
   "execution_count": null,
   "id": "856934e7-f13d-4e84-a5b6-c710bd07ccc7",
   "metadata": {},
   "outputs": [],
   "source": [
    "# Profit by category\n",
    "category_profit = sales.groupby(\"Category\")[\"Profit_Loss_Amount\"].sum().reset_index()\n",
    "\n",
    "plt.figure(figsize=(8,5))\n",
    "sns.barplot(x=\"Category\", y=\"Profit_Loss_Amount\",hue='Category', data=category_profit, palette=\"Greens_d\")\n",
    "plt.title(\"Total Profit/Loss by Category\")\n",
    "plt.xticks(rotation=45)\n",
    "plt.show()"
   ]
  },
  {
   "cell_type": "code",
   "execution_count": null,
   "id": "5d6344c3-f533-4bed-9910-24588a8f6bb4",
   "metadata": {},
   "outputs": [],
   "source": [
    "# Top 10 by revenue\n",
    "top_revenue = sales.groupby(\"Product_Name\")[\"Revenue\"].sum().sort_values(ascending=False).head(10).reset_index()\n",
    "\n",
    "plt.figure(figsize=(10,6))\n",
    "sns.barplot(x=\"Revenue\", y=\"Product_Name\", data=top_revenue)\n",
    "plt.title(\"Top 10 Products by Revenue\")\n",
    "plt.show()\n",
    "\n",
    "# Top 10 by profit\n",
    "top_profit = sales.groupby(\"Product_Name\")[\"Profit_Loss_Amount\"].sum().sort_values(ascending=False).head(10).reset_index()\n",
    "\n",
    "plt.figure(figsize=(10,6))\n",
    "sns.barplot(x=\"Profit_Loss_Amount\", y=\"Product_Name\", data=top_profit)\n",
    "plt.title(\"Top 10 Products by Profit\")\n",
    "plt.show()\n"
   ]
  },
  {
   "cell_type": "code",
   "execution_count": null,
   "id": "966cb2df-ef89-4ecc-b6be-74489fb75426",
   "metadata": {},
   "outputs": [],
   "source": [
    "plt.figure(figsize=(8,6))\n",
    "sns.scatterplot(x=\"Revenue\", y=\"Profit_Loss_Amount\", hue=\"Category\", data=sales, alpha=0.7)\n",
    "plt.title(\"Revenue vs Profit (by Category)\")\n",
    "plt.xlabel(\"Revenue\")\n",
    "plt.ylabel(\"Profit/Loss\")\n",
    "plt.show()\n"
   ]
  },
  {
   "cell_type": "code",
   "execution_count": null,
   "id": "b2ccd6f3-ef64-405f-990a-82453f09650f",
   "metadata": {},
   "outputs": [],
   "source": [
    "\n",
    "# Group by category to get average cost & selling price\n",
    "category_prices = sales.groupby(\"Category\")[[\"Cost_Price\", \"Selling_Price\"]].mean().reset_index()\n",
    "\n",
    "# Melt the dataframe to long format for seaborn\n",
    "category_prices_melted = category_prices.melt(id_vars=\"Category\", value_vars=[\"Cost_Price\", \"Selling_Price\"],\n",
    "                                              var_name=\"Price_Type\", value_name=\"Price\")\n",
    "\n",
    "# Plot\n",
    "plt.figure(figsize=(10,6))\n",
    "sns.barplot(x=\"Category\", y=\"Price\", hue=\"Price_Type\", data=category_prices_melted, palette=\"Set2\")\n",
    "plt.title(\"Average Cost Price vs Selling Price by Category\")\n",
    "plt.xticks(rotation=45)\n",
    "plt.ylabel(\" Price \")\n",
    "plt.show()\n"
   ]
  },
  {
   "cell_type": "code",
   "execution_count": null,
   "id": "b0026f47-96b3-444f-9590-f9894852f6d5",
   "metadata": {},
   "outputs": [],
   "source": [
    "# Group by category to get total cost and selling price\n",
    "category_totals = sales.groupby(\"Category\")[[\"Cost_Price\", \"Selling_Price\"]].sum().reset_index()\n",
    "\n",
    "# Melt for seaborn\n",
    "category_totals_melted = category_totals.melt(id_vars=\"Category\", value_vars=[\"Cost_Price\", \"Selling_Price\"],\n",
    "                                              var_name=\"Price_Type\", value_name=\"Total_Price\")\n",
    "\n",
    "# Plot\n",
    "plt.figure(figsize=(10,6))\n",
    "sns.barplot(x=\"Category\", y=\"Total_Price\", hue=\"Price_Type\", data=category_totals_melted, palette=\"Paired\")\n",
    "plt.title(\"Total Cost vs Total Selling Price by Category\")\n",
    "plt.xticks(rotation=45)\n",
    "plt.ylabel(\"Total Price\")\n",
    "plt.show()\n"
   ]
  },
  {
   "cell_type": "code",
   "execution_count": null,
   "id": "eb4b692e-8899-4ebb-89bc-7ebcc72395f4",
   "metadata": {},
   "outputs": [],
   "source": [
    "import matplotlib.ticker as mticker\n",
    "\n",
    "# Group by category for total revenue and profit\n",
    "category_perf = sales.groupby(\"Category\")[[\"Revenue\", \"Profit_Loss_Amount\"]].sum().reset_index()\n",
    "\n",
    "# Melt for seaborn\n",
    "category_perf_melted = category_perf.melt(\n",
    "    id_vars=\"Category\", \n",
    "    value_vars=[\"Revenue\", \"Profit_Loss_Amount\"],\n",
    "    var_name=\"Metric\", \n",
    "    value_name=\"Amount\"\n",
    ")\n",
    "\n",
    "# Plot\n",
    "plt.figure(figsize=(10,6))\n",
    "ax = sns.barplot(x=\"Category\", y=\"Amount\", hue=\"Metric\", data=category_perf_melted, palette=\"Set1\")\n",
    "\n",
    "# Format Y-axis to show full numbers (no scientific notation)\n",
    "ax.yaxis.set_major_formatter(mticker.StrMethodFormatter('{x:,.0f}'))\n",
    "\n",
    "plt.title(\"Revenue vs Profit by Category\")\n",
    "plt.xticks(rotation=45)\n",
    "plt.ylabel(\"Amount (in full numbers)\")\n",
    "plt.show()\n"
   ]
  },
  {
   "cell_type": "markdown",
   "id": "319da843-689b-484e-8b98-b1c253564300",
   "metadata": {},
   "source": [
    "    WAREHOUSE DATA"
   ]
  },
  {
   "cell_type": "code",
   "execution_count": null,
   "id": "22fe05e4-7f78-452a-a29f-35f9a54f8907",
   "metadata": {},
   "outputs": [],
   "source": [
    "# Structure\n",
    "warehouse.info()\n",
    "\n"
   ]
  },
  {
   "cell_type": "code",
   "execution_count": null,
   "id": "97e23410-0e37-46a6-ad30-0f0b329ead6a",
   "metadata": {},
   "outputs": [],
   "source": [
    "# Summary stats\n",
    "warehouse.describe()\n",
    "\n"
   ]
  },
  {
   "cell_type": "code",
   "execution_count": null,
   "id": "0c3b3589-97b7-43c4-9db0-0bc14c1a3c80",
   "metadata": {},
   "outputs": [],
   "source": [
    "# Check missing values\n",
    "warehouse.isnull().sum()\n"
   ]
  },
  {
   "cell_type": "code",
   "execution_count": null,
   "id": "5cdcf13a-8155-414e-a93e-ca8fc1536111",
   "metadata": {},
   "outputs": [],
   "source": [
    "\n",
    "# Preview\n",
    "warehouse.head()"
   ]
  },
  {
   "cell_type": "code",
   "execution_count": null,
   "id": "ba8681db-f811-4121-baf4-f79019158d51",
   "metadata": {},
   "outputs": [],
   "source": [
    "# Avg utilization per warehouse\n",
    "warehouse.groupby(\"Warehouse_ID\")[\"Space_Utilization\"].mean().sort_values(ascending=False)\n",
    "\n"
   ]
  },
  {
   "cell_type": "code",
   "execution_count": null,
   "id": "44447290-481b-4e37-a7b7-dcb3ca32afa6",
   "metadata": {},
   "outputs": [],
   "source": [
    "# Top 10 products by space utilization\n",
    "warehouse[[\"Product_Name\", \"Space_Utilization\"]].sort_values(by=\"Space_Utilization\", ascending=False).head(10)"
   ]
  },
  {
   "cell_type": "code",
   "execution_count": null,
   "id": "c1300c8e-af21-464c-a2dd-d9147a7dd6bf",
   "metadata": {},
   "outputs": [],
   "source": [
    "# Total stock per warehouse\n",
    "warehouse.groupby(\"Warehouse_ID\")[\"Stock_On_Hand\"].sum().sort_values(ascending=False)\n",
    "\n",
    "\n"
   ]
  },
  {
   "cell_type": "code",
   "execution_count": null,
   "id": "22eb7ae4-1e96-43c6-90c9-6e82ae1b3aaf",
   "metadata": {},
   "outputs": [],
   "source": [
    "# Products with highest stock\n",
    "warehouse[[\"Product_Name\", \"Stock_On_Hand\"]].sort_values(by=\"Stock_On_Hand\", ascending=False).head(10)\n"
   ]
  },
  {
   "cell_type": "code",
   "execution_count": null,
   "id": "1508c451-68d5-4c77-8112-54cad5c51a9c",
   "metadata": {},
   "outputs": [],
   "source": [
    "\n",
    "# Stock below reorder level (risk of stockout)\n",
    "warehouse[warehouse[\"Stock_On_Hand\"] < warehouse[\"Reorder_Level\"]][[\"Product_Name\", \"Stock_On_Hand\", \"Reorder_Level\"]]"
   ]
  },
  {
   "cell_type": "code",
   "execution_count": null,
   "id": "76acd16a-8b31-4df5-885f-e4f0426a1c49",
   "metadata": {},
   "outputs": [],
   "source": [
    "# Average storage cost per warehouse\n",
    "warehouse.groupby(\"Warehouse_ID\")[\"Storage_Cost_Per_Unit\"].mean().sort_values(ascending=False)\n",
    "\n"
   ]
  },
  {
   "cell_type": "code",
   "execution_count": null,
   "id": "20545594-f205-4b6c-9f47-ecc952532eb2",
   "metadata": {},
   "outputs": [],
   "source": [
    "# Products with highest storage cost per unit\n",
    "warehouse[[\"Product_Name\", \"Storage_Cost_Per_Unit\"]].sort_values(by=\"Storage_Cost_Per_Unit\", ascending=False).head(10)\n"
   ]
  },
  {
   "cell_type": "code",
   "execution_count": null,
   "id": "855cf079-795c-4d2e-a316-f68489b3325b",
   "metadata": {},
   "outputs": [],
   "source": [
    "# Average damaged units per warehouse\n",
    "warehouse.groupby(\"Warehouse_ID\")[\"Damaged_Units\"].mean().sort_values(ascending=False)\n",
    "\n",
    "\n"
   ]
  },
  {
   "cell_type": "code",
   "execution_count": null,
   "id": "8c517ac9-cf3f-447f-b40d-0b74cd50c848",
   "metadata": {},
   "outputs": [],
   "source": [
    "# Products with most damage\n",
    "warehouse[[\"Product_Name\", \"Damaged_Units\"]].sort_values(by=\"Damaged_Units\", ascending=False).head(10)"
   ]
  },
  {
   "cell_type": "code",
   "execution_count": null,
   "id": "bcc918a5-6cfe-4f3b-ba33-62d1bc248c68",
   "metadata": {},
   "outputs": [],
   "source": [
    "# Avg order fulfillment time per warehouse\n",
    "warehouse.groupby(\"Warehouse_ID\")[\"Order_Fulfillment_Time\"].mean().sort_values()\n",
    "\n",
    "# Products with slowest order fulfillment\n",
    "warehouse[[\"Product_Name\", \"Order_Fulfillment_Time\"]].sort_values(by=\"Order_Fulfillment_Time\", ascending=False).head(10)\n"
   ]
  },
  {
   "cell_type": "code",
   "execution_count": null,
   "id": "cd2b380e-8d95-4727-9d54-6f8950515e30",
   "metadata": {},
   "outputs": [],
   "source": [
    "# Example: Storage efficiency = Stock_On_Hand / Space_Utilization\n",
    "warehouse[\"Storage_Efficiency\"] = warehouse[\"Stock_On_Hand\"] / warehouse[\"Space_Utilization\"]\n",
    "\n",
    "warehouse.groupby(\"Warehouse_ID\")[\"Storage_Efficiency\"].mean().sort_values(ascending=False)\n"
   ]
  },
  {
   "cell_type": "code",
   "execution_count": null,
   "id": "3ee99738-7b55-4125-b5a4-a2ba54f4e100",
   "metadata": {},
   "outputs": [],
   "source": [
    "# Products that are costly to store & also have high damage\n",
    "warehouse.sort_values(by=[\"Damaged_Units\", \"Storage_Cost_Per_Unit\"], ascending=False).head(10)\n"
   ]
  },
  {
   "cell_type": "code",
   "execution_count": null,
   "id": "bb92fd7d-90b8-4654-bc77-97c84a2a1647",
   "metadata": {},
   "outputs": [],
   "source": [
    "# Aggregated metrics per warehouse\n",
    "warehouse.groupby(\"Warehouse_ID\").agg({\n",
    "    \"Stock_On_Hand\": \"sum\",\n",
    "    \"Reorder_Level\": \"mean\",\n",
    "    \"Storage_Cost_Per_Unit\": \"mean\",\n",
    "    \"Damaged_Units\": \"sum\",\n",
    "    \"Space_Utilization\": \"mean\",\n",
    "    \"Order_Fulfillment_Time\": \"mean\"\n",
    "}).sort_values(by=\"Stock_On_Hand\", ascending=False)\n"
   ]
  },
  {
   "cell_type": "markdown",
   "id": "49fba289-baa4-4922-9b2b-916e4e7f034b",
   "metadata": {},
   "source": [
    "With these queries we’ll know:\n",
    "\n",
    "Which warehouses are most/least efficient\n",
    "\n",
    "Where the highest damages & storage costs are\n",
    "\n",
    "Which products are at stockout risk\n",
    "\n",
    "Which warehouses fulfill orders fastest/slowest"
   ]
  },
  {
   "cell_type": "code",
   "execution_count": null,
   "id": "81dbfabd-8ea6-4210-aeed-0520a1dfcb0e",
   "metadata": {},
   "outputs": [],
   "source": [
    "plt.figure(figsize=(10,6))\n",
    "sns.barplot(x=\"Warehouse_ID\", y=\"Space_Utilization\", hue=\"Warehouse_ID\", \n",
    "            data=warehouse, palette=\"Blues_d\", legend=False)\n",
    "plt.title(\"Average Space Utilization by Warehouse\")\n",
    "plt.ylabel(\"Average Utilization (%)\")\n",
    "plt.show()\n"
   ]
  },
  {
   "cell_type": "code",
   "execution_count": null,
   "id": "7e27c9ea-79e4-4c4a-8fb5-3cacda0df27c",
   "metadata": {},
   "outputs": [],
   "source": [
    "plt.figure(figsize=(10,6))\n",
    "sns.barplot(x=\"Warehouse_ID\", y=\"Damaged_Units\", hue=\"Warehouse_ID\", \n",
    "            data=warehouse, palette=\"Reds_d\", legend=False)\n",
    "plt.title(\"Average Damaged Units by Warehouse\")\n",
    "plt.ylabel(\"Average Damaged Units\")\n",
    "plt.show()\n"
   ]
  },
  {
   "cell_type": "code",
   "execution_count": null,
   "id": "98e100ac-41d5-4d45-828c-d74a0851c2a7",
   "metadata": {},
   "outputs": [],
   "source": [
    "plt.figure(figsize=(12,6))\n",
    "sns.scatterplot(x=\"Stock_On_Hand\", y=\"Reorder_Level\", \n",
    "                hue=\"Warehouse_ID\", data=warehouse, palette=\"tab10\", alpha=0.8)\n",
    "plt.title(\"Stock on Hand vs Reorder Level\")\n",
    "plt.xlabel(\"Stock On Hand\")\n",
    "plt.ylabel(\"Reorder Level\")\n",
    "plt.show()\n"
   ]
  },
  {
   "cell_type": "code",
   "execution_count": null,
   "id": "3053e57f-d6a1-4d76-a8e9-a00afe26dd0c",
   "metadata": {},
   "outputs": [],
   "source": [
    "top_storage_cost = warehouse.sort_values(by=\"Storage_Cost_Per_Unit\", ascending=False).head(15)\n",
    "\n",
    "plt.figure(figsize=(12,6))\n",
    "sns.barplot(x=\"Storage_Cost_Per_Unit\", y=\"Product_Name\", \n",
    "            hue=\"Warehouse_ID\", data=top_storage_cost, palette=\"Set2\")\n",
    "plt.title(\"Top 15 Products by Storage Cost per Unit\")\n",
    "plt.xlabel(\"Storage Cost Per Unit\")\n",
    "plt.ylabel(\"Product\")\n",
    "plt.show()\n"
   ]
  },
  {
   "cell_type": "code",
   "execution_count": null,
   "id": "95a2bed7-27b9-4b05-b571-8a03aaee1edd",
   "metadata": {},
   "outputs": [],
   "source": [
    "plt.figure(figsize=(10,6))\n",
    "sns.boxplot(x=\"Warehouse_ID\", y=\"Order_Fulfillment_Time\", hue=\"Warehouse_ID\", \n",
    "            data=warehouse, palette=\"coolwarm\")\n",
    "plt.title(\"Order Fulfillment Time Distribution by Warehouse\")\n",
    "plt.ylabel(\"Fulfillment Time\")\n",
    "plt.show()\n"
   ]
  },
  {
   "cell_type": "code",
   "execution_count": null,
   "id": "4b849a86-7625-415b-bbf6-74f5dcfd7fc8",
   "metadata": {},
   "outputs": [],
   "source": [
    "\n",
    "\n",
    "#  Aggregate metrics per warehouse\n",
    "warehouse_health = warehouse.groupby(\"Warehouse_ID\").agg({\n",
    "    \"Space_Utilization\": \"mean\",\n",
    "    \"Storage_Cost_Per_Unit\": \"mean\",\n",
    "    \"Damaged_Units\": \"mean\",\n",
    "    \"Order_Fulfillment_Time\": \"mean\"\n",
    "}).reset_index()\n",
    "\n",
    "#  Normalize values (0–1 scale) so all metrics fit radar chart\n",
    "normalized = warehouse_health.copy()\n",
    "for col in [\"Space_Utilization\", \"Storage_Cost_Per_Unit\", \"Damaged_Units\", \"Order_Fulfillment_Time\"]:\n",
    "    normalized[col] = (warehouse_health[col] - warehouse_health[col].min()) / (warehouse_health[col].max() - warehouse_health[col].min())\n",
    "\n",
    "#  Radar chart setup\n",
    "categories = [\"Space_Utilization\", \"Storage_Cost_Per_Unit\", \"Damaged_Units\", \"Order_Fulfillment_Time\"]\n",
    "N = len(categories)\n",
    "\n",
    "angles = np.linspace(0, 2*np.pi, N, endpoint=False).tolist()\n",
    "angles += angles[:1]  # close the circle\n",
    "\n",
    "#  Plot each warehouse\n",
    "plt.figure(figsize=(8,8))\n",
    "for i, row in normalized.iterrows():\n",
    "    values = row[categories].tolist()\n",
    "    values += values[:1]  # close loop\n",
    "    plt.polar(angles, values, label=f\"Warehouse {row['Warehouse_ID']}\", linewidth=2)\n",
    "    plt.fill(angles, values, alpha=0.1)\n",
    "\n",
    "#  Formatting\n",
    "plt.xticks(angles[:-1], categories)\n",
    "plt.title(\"Warehouse Health Radar Chart\", size=14, y=1.1)\n",
    "plt.legend(loc=\"upper right\", bbox_to_anchor=(1.3, 1.1))\n",
    "plt.show()\n"
   ]
  },
  {
   "cell_type": "code",
   "execution_count": null,
   "id": "d92d84e3-f3ff-4595-b080-d5ecccbe5b12",
   "metadata": {},
   "outputs": [],
   "source": [
    "\n",
    "\n",
    "# Aggregate metrics per warehouse \n",
    "warehouse_health = warehouse.groupby(\"Warehouse_ID\").agg({\n",
    "    \"Space_Utilization\": \"mean\",\n",
    "    \"Storage_Cost_Per_Unit\": \"mean\",\n",
    "    \"Damaged_Units\": \"mean\",\n",
    "    \"Order_Fulfillment_Time\": \"mean\"\n",
    "})\n",
    "\n",
    "# Plot heatmap\n",
    "plt.figure(figsize=(10,6))\n",
    "sns.heatmap(warehouse_health, annot=True, fmt=\".2f\", cmap=\"YlGnBu\", linewidths=0.5, cbar_kws={'label': 'Value'})\n",
    "plt.title(\"Warehouse Health Heatmap (KPIs by Warehouse)\", fontsize=14, pad=15)\n",
    "plt.ylabel(\"Warehouse ID\")\n",
    "plt.show()\n"
   ]
  },
  {
   "cell_type": "code",
   "execution_count": null,
   "id": "d24aaba3-4b5c-4c08-ac47-c1bfe5f508ae",
   "metadata": {},
   "outputs": [],
   "source": [
    "# Merge sales and warehouse datasets\n",
    "combined = pd.merge(sales, warehouse, on=\"Product_ID\", how=\"inner\")\n",
    "\n",
    "print(combined.shape)\n",
    "print(combined.head())\n"
   ]
  },
  {
   "cell_type": "code",
   "execution_count": null,
   "id": "f9e14d4f-8fe0-4efe-a08c-de00216e8855",
   "metadata": {},
   "outputs": [],
   "source": [
    "combined.groupby(\"Warehouse_ID\").agg({\n",
    "    \"Revenue\": \"sum\",\n",
    "    \"Storage_Cost_Per_Unit\": \"mean\"\n",
    "}).sort_values(by=\"Revenue\", ascending=False)\n"
   ]
  },
  {
   "cell_type": "code",
   "execution_count": null,
   "id": "16ef2f81-4eca-4d93-8d7a-36c38778c131",
   "metadata": {},
   "outputs": [],
   "source": [
    "combined.groupby(\"Warehouse_ID\").agg({\n",
    "    \"Profit_Loss_Amount\": \"sum\",\n",
    "    \"Space_Utilization\": \"mean\"\n",
    "}).sort_values(by=\"Profit_Loss_Amount\", ascending=False)\n"
   ]
  },
  {
   "cell_type": "code",
   "execution_count": null,
   "id": "75150b6f-6619-4781-a29f-19ecd291344a",
   "metadata": {},
   "outputs": [],
   "source": [
    "combined[\"Profit_per_Space\"] = combined[\"Profit_Loss_Amount\"] / combined[\"Space_Utilization\"]\n",
    "combined[[\"Product_Name_x\", \"Warehouse_ID\", \"Profit_per_Space\"]].sort_values(by=\"Profit_per_Space\", ascending=False).head(10)\n"
   ]
  },
  {
   "cell_type": "code",
   "execution_count": null,
   "id": "561d57f5-b3ff-409d-8736-910ee3e3b55f",
   "metadata": {},
   "outputs": [],
   "source": [
    "\n",
    "\n",
    "warehouse_perf = combined.groupby(\"Warehouse_ID\").agg({\n",
    "    \"Revenue\": \"sum\",\n",
    "    \"Storage_Cost_Per_Unit\": \"mean\"\n",
    "}).reset_index()\n",
    "\n",
    "plt.figure(figsize=(10,6))\n",
    "sns.barplot(x=\"Warehouse_ID\", y=\"Revenue\", hue=\"Warehouse_ID\", data=warehouse_perf, palette=\"Blues_d\", legend=False)\n",
    "plt.title(\"Revenue by Warehouse\")\n",
    "plt.show()\n",
    "\n",
    "plt.figure(figsize=(10,6))\n",
    "sns.barplot(x=\"Warehouse_ID\", y=\"Storage_Cost_Per_Unit\", hue=\"Warehouse_ID\", data=warehouse_perf, palette=\"Reds_d\", legend=False)\n",
    "plt.title(\"Average Storage Cost per Unit by Warehouse\")\n",
    "plt.show()\n"
   ]
  },
  {
   "cell_type": "code",
   "execution_count": null,
   "id": "94aaf288-a456-40be-b862-e405cad44c21",
   "metadata": {},
   "outputs": [],
   "source": [
    "warehouse_eff = combined.groupby(\"Warehouse_ID\").agg({\n",
    "    \"Profit_Loss_Amount\": \"sum\",\n",
    "    \"Space_Utilization\": \"mean\"\n",
    "}).reset_index()\n",
    "\n",
    "plt.figure(figsize=(8,6))\n",
    "sns.scatterplot(x=\"Space_Utilization\", y=\"Profit_Loss_Amount\", hue=\"Warehouse_ID\", data=warehouse_eff, s=120, palette=\"tab10\")\n",
    "plt.title(\"Profit vs Space Utilization by Warehouse\")\n",
    "plt.xlabel(\"Avg Space Utilization\")\n",
    "plt.ylabel(\"Total Profit\")\n",
    "plt.show()\n"
   ]
  },
  {
   "cell_type": "code",
   "execution_count": null,
   "id": "e9e9a3db-7736-4c4c-8e7c-96d854c6a595",
   "metadata": {},
   "outputs": [],
   "source": [
    "top_eff = combined.groupby(\"Product_Name_x\").agg({\n",
    "    \"Profit_Loss_Amount\": \"sum\",\n",
    "    \"Space_Utilization\": \"mean\"\n",
    "}).reset_index()\n",
    "\n",
    "top_eff[\"Profit_per_Space\"] = top_eff[\"Profit_Loss_Amount\"] / top_eff[\"Space_Utilization\"]\n",
    "\n",
    "plt.figure(figsize=(12,6))\n",
    "sns.barplot(x=\"Profit_per_Space\", y=\"Product_Name_x\", data=top_eff.sort_values(by=\"Profit_per_Space\", ascending=False).head(15), palette=\"Greens_r\")\n",
    "plt.title(\"Top 15 Products by Profit per Space Utilization\")\n",
    "plt.xlabel(\"Profit per Space Utilization\")\n",
    "plt.ylabel(\"Product\")\n",
    "plt.show()\n"
   ]
  },
  {
   "cell_type": "markdown",
   "id": "3deb8a64-ed0d-45a1-97da-fc00c5a7c028",
   "metadata": {},
   "source": [
    "With these, we’ll be able to answer:\n",
    "\n",
    "Which warehouses generate the most revenue vs cost?\n",
    "\n",
    "Which warehouses use space efficiently vs waste space?\n",
    "\n",
    "Which products are high ROI in terms of warehouse usage?"
   ]
  },
  {
   "cell_type": "code",
   "execution_count": null,
   "id": "b7cef969-e941-49f3-a006-1fc714f19e49",
   "metadata": {},
   "outputs": [],
   "source": [
    "\n",
    "\n",
    "# Prepare summary datasets\n",
    "warehouse_perf = combined.groupby(\"Warehouse_ID\").agg({\n",
    "    \"Revenue\": \"sum\",\n",
    "    \"Storage_Cost_Per_Unit\": \"mean\"\n",
    "}).reset_index()\n",
    "\n",
    "warehouse_eff = combined.groupby(\"Warehouse_ID\").agg({\n",
    "    \"Profit_Loss_Amount\": \"sum\",\n",
    "    \"Space_Utilization\": \"mean\"\n",
    "}).reset_index()\n",
    "\n",
    "top_eff = combined.groupby(\"Product_Name_x\").agg({\n",
    "    \"Profit_Loss_Amount\": \"sum\",\n",
    "    \"Space_Utilization\": \"mean\"\n",
    "}).reset_index()\n",
    "top_eff[\"Profit_per_Space\"] = top_eff[\"Profit_Loss_Amount\"] / top_eff[\"Space_Utilization\"]\n",
    "top_eff = top_eff.sort_values(by=\"Profit_per_Space\", ascending=False).head(10)\n",
    "\n",
    "# Dashboard Layout\n",
    "fig, axes = plt.subplots(2, 2, figsize=(16, 12))\n",
    "\n",
    "# 1. Revenue by Warehouse\n",
    "sns.barplot(ax=axes[0,0], x=\"Warehouse_ID\", y=\"Revenue\", hue=\"Warehouse_ID\", \n",
    "            data=warehouse_perf, palette=\"Blues_d\", legend=False)\n",
    "axes[0,0].set_title(\"Revenue by Warehouse\")\n",
    "\n",
    "# 2. Avg Storage Cost by Warehouse\n",
    "sns.barplot(ax=axes[0,1], x=\"Warehouse_ID\", y=\"Storage_Cost_Per_Unit\", hue=\"Warehouse_ID\", \n",
    "            data=warehouse_perf, palette=\"Reds_d\", legend=False)\n",
    "axes[0,1].set_title(\"Avg Storage Cost per Unit by Warehouse\")\n",
    "\n",
    "# 3. Profit vs Space Utilization (Scatter)\n",
    "sns.scatterplot(ax=axes[1,0], x=\"Space_Utilization\", y=\"Profit_Loss_Amount\", \n",
    "                hue=\"Warehouse_ID\", data=warehouse_eff, s=120, palette=\"tab10\")\n",
    "axes[1,0].set_title(\"Profit vs Space Utilization by Warehouse\")\n",
    "\n",
    "# 4. Top Products by Profit per Space\n",
    "sns.barplot(ax=axes[1,1], x=\"Profit_per_Space\", y=\"Product_Name_x\", \n",
    "            data=top_eff, palette=\"Greens_r\")\n",
    "axes[1,1].set_title(\"Top 10 Products by Profit per Space Utilization\")\n",
    "\n",
    "plt.tight_layout()\n",
    "plt.show()\n"
   ]
  },
  {
   "cell_type": "code",
   "execution_count": null,
   "id": "cb149c5c-d711-407b-a6d4-d4966856b22c",
   "metadata": {},
   "outputs": [],
   "source": []
  }
 ],
 "metadata": {
  "kernelspec": {
   "display_name": "Python 3 (ipykernel)",
   "language": "python",
   "name": "python3"
  },
  "language_info": {
   "codemirror_mode": {
    "name": "ipython",
    "version": 3
   },
   "file_extension": ".py",
   "mimetype": "text/x-python",
   "name": "python",
   "nbconvert_exporter": "python",
   "pygments_lexer": "ipython3",
   "version": "3.13.0"
  }
 },
 "nbformat": 4,
 "nbformat_minor": 5
}
